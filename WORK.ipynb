{
 "cells": [
  {
   "cell_type": "raw",
   "metadata": {},
   "source": [
    "The variability types are eclipsing binary, Cepheid, RR-Lyrae, Mira and other\n",
    "A total of 22802 variable objects were found that include 9046 RR-Lyrae, 2758 Cepheids, 1596 eclipsing binaries, 890 Miras, and 8512 unclassified objects. About 10% of the data was lost in the data archeology step that included converting the measurements from a native PAW format to csv, giving us a total of 19429 stars.or the RAMP, we decided to drop all instances in the \"unclassified object\" category since the interpretation of this type was unclear. We then randomly selected 30% of the data for training, giving us 3641 training instances.\n",
    "N = 3641"
   ]
  },
  {
   "cell_type": "code",
   "execution_count": 1,
   "metadata": {},
   "outputs": [],
   "source": [
    "%matplotlib inline\n",
    "import numpy as np\n",
    "import pandas as pd\n",
    "import matplotlib.pyplot as plt\n",
    "from itertools import chain\n",
    "pd.set_option('display.max_columns', None)"
   ]
  },
  {
   "cell_type": "code",
   "execution_count": 2,
   "metadata": {},
   "outputs": [],
   "source": [
    "import problem\n",
    "\n",
    "X_df, y = problem.get_train_data()"
   ]
  },
  {
   "cell_type": "markdown",
   "metadata": {},
   "source": [
    "TARGET"
   ]
  },
  {
   "cell_type": "code",
   "execution_count": 3,
   "metadata": {},
   "outputs": [
    {
     "data": {
      "text/plain": [
       "0    rr_lyrae\n",
       "1        mira\n",
       "2    rr_lyrae\n",
       "3      binary\n",
       "4    rr_lyrae\n",
       "dtype: object"
      ]
     },
     "execution_count": 3,
     "metadata": {},
     "output_type": "execute_result"
    }
   ],
   "source": [
    "label_names = {1: 'binary', 2: 'cepheid', 3: 'rr_lyrae', 4: 'mira'}\n",
    "labels = list(label_names.keys())\n",
    "y_series = pd.Series(y).replace(label_names)\n",
    "y_series.head()"
   ]
  },
  {
   "cell_type": "code",
   "execution_count": 4,
   "metadata": {},
   "outputs": [
    {
     "data": {
      "image/png": "[encoded data removed]",
      "text/plain": [
       "<Figure size 432x288 with 1 Axes>"
      ]
     },
     "metadata": {
      "needs_background": "light"
     },
     "output_type": "display_data"
    }
   ],
   "source": [
    "_ = y_series.value_counts().plot(kind=\"bar\")"
   ]
  },
  {
   "cell_type": "markdown",
   "metadata": {},
   "source": [
    "Classes très inéquilibrées avec prédominance de rr_lyrae"
   ]
  },
  {
   "cell_type": "code",
   "execution_count": null,
   "metadata": {},
   "outputs": [],
   "source": [
    "FEATURES"
   ]
  },
  {
   "cell_type": "code",
   "execution_count": 5,
   "metadata": {},
   "outputs": [],
   "source": [
    "cols = [\n",
    "    'magnitude_b',\n",
    "    'magnitude_r',\n",
    "    'period',\n",
    "    'asym_b',\n",
    "    'asym_r',\n",
    "    'log_p_not_variable',\n",
    "    'sigma_flux_b',\n",
    "    'sigma_flux_r',\n",
    "    'quality',\n",
    "    'div_period',\n",
    "]"
   ]
  },
  {
   "cell_type": "markdown",
   "metadata": {},
   "source": [
    "On peut regarder la distribution des différents features par classe en superposant les histogrammes\n",
    "Selon la répartition des différentes distributions, on peut choisir le bin de l'histogramme (taille de la fenêtre)\n",
    "pour mettre en évidence, un décalage dans les distributions"
   ]
  },
  {
   "cell_type": "code",
   "execution_count": 7,
   "metadata": {},
   "outputs": [],
   "source": [
    "colors = ['r', 'b', 'g', 'm'] # une couleur  pour chaque classe {rouge: 'binary', bleu: 'cepheid', vert: 'rr_lyrae', violet: 'mira'}\n",
    "def plot_classwise_normalized(feature, bins=None):\n",
    "    if bins is None:\n",
    "        bins = np.linspace(X_df[feature].min(), X_df[feature].max(), 15)\n",
    "    for label, color in zip(labels, colors):\n",
    "        plt.hist(X_df[y == label][feature].values, density=True, bins=bins, \n",
    "                 alpha=0.5, color=color)"
   ]
  },
  {
   "cell_type": "code",
   "execution_count": 8,
   "metadata": {},
   "outputs": [
    {
     "data": {
      "image/png": "[encoded data removed]",
      "text/plain": [
       "<Figure size 432x288 with 1 Axes>"
      ]
     },
     "metadata": {
      "needs_background": "light"
     },
     "output_type": "display_data"
    }
   ],
   "source": [
    "for feature in cols :\n",
    "    ax=plt.fi\n",
    "    plot_classwise_normalized(feature, bins=None)"
   ]
  },
  {
   "cell_type": "code",
   "execution_count": null,
   "metadata": {},
   "outputs": [],
   "source": []
  }
 ],
 "metadata": {
  "kernelspec": {
   "display_name": "Python 3",
   "language": "python",
   "name": "python3"
  },
  "language_info": {
   "codemirror_mode": {
    "name": "ipython",
    "version": 3
   },
   "file_extension": ".py",
   "mimetype": "text/x-python",
   "name": "python",
   "nbconvert_exporter": "python",
   "pygments_lexer": "ipython3",
   "version": "3.8.3"
  }
 },
 "nbformat": 4,
 "nbformat_minor": 4
}
